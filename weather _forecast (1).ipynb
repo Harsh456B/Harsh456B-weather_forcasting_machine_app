{
 "cells": [
  {
   "cell_type": "markdown",
   "metadata": {
    "id": "qH96ADsbrKu1"
   },
   "source": [
    "Import necessary library"
   ]
  },
  {
   "cell_type": "code",
   "execution_count": 42,
   "metadata": {
    "executionInfo": {
     "elapsed": 4665,
     "status": "ok",
     "timestamp": 1734229465351,
     "user": {
      "displayName": "Harsh Bhogal",
      "userId": "01847225361597675701"
     },
     "user_tz": -330
    },
    "id": "eMv9RY2nlByi"
   },
   "outputs": [],
   "source": [
    "import requests\n",
    "import pandas as pd\n",
    "import numpy as np\n",
    "from sklearn.model_selection import train_test_split\n",
    "from sklearn.preprocessing import LabelEncoder\n",
    "from sklearn.ensemble import RandomForestClassifier, RandomForestRegressor\n",
    "from sklearn.metrics import accuracy_score, mean_squared_error\n",
    "from datetime import datetime, timedelta\n",
    "import pytz\n",
    "import pickle\n",
    "import os"
   ]
  },
  {
   "cell_type": "markdown",
   "metadata": {
    "id": "2O0ljBZcrVhj"
   },
   "source": [
    "API_KEY = '"
   ]
  },
  {
   "cell_type": "code",
   "execution_count": 43,
   "metadata": {
    "executionInfo": {
     "elapsed": 375,
     "status": "ok",
     "timestamp": 1734229467228,
     "user": {
      "displayName": "Harsh Bhogal",
      "userId": "01847225361597675701"
     },
     "user_tz": -330
    },
    "id": "Em3y1mD2rtox"
   },
   "outputs": [],
   "source": [
    "API_KEY = 'c5385722edf9ea23965d802ab9842e35'\n",
    "BASE_URL = 'https://api.openweathermap.org/data/2.5/'"
   ]
  },
  {
   "cell_type": "markdown",
   "metadata": {
    "id": "1kmkNQOosAB5"
   },
   "source": [
    "Fetch the current weather data"
   ]
  },
  {
   "cell_type": "code",
   "execution_count": 44,
   "metadata": {
    "executionInfo": {
     "elapsed": 362,
     "status": "ok",
     "timestamp": 1734229469294,
     "user": {
      "displayName": "Harsh Bhogal",
      "userId": "01847225361597675701"
     },
     "user_tz": -330
    },
    "id": "CIr8XQD2sHS3"
   },
   "outputs": [],
   "source": [
    "def get_current_weather(city):\n",
    "    url = f\"{BASE_URL}weather?q={city}&appid={API_KEY}&units=metric\"\n",
    "    response = requests.get(url)\n",
    "    data = response.json()\n",
    "\n",
    "    return {\n",
    "        'city': data['name'],\n",
    "        'current_temp': round(data['main']['temp']),\n",
    "        'feels_like': round(data['main']['feels_like']),\n",
    "        'temp_min': round(data['main']['temp_min']),\n",
    "        'temp_max': round(data['main']['temp_max']),\n",
    "        'humidity': round(data['main']['humidity']),\n",
    "        'description': data['weather'][0]['description'],\n",
    "        'country': data['sys']['country'],\n",
    "        'wind_gust_dir': data['wind']['deg'],\n",
    "        'Wind_Gust_Speed': data['wind']['speed'],\n",
    "        'pressure' : data['main']['pressure']\n",
    "    }"
   ]
  },
  {
   "cell_type": "markdown",
   "metadata": {
    "id": "3jf4T0aAvNWs"
   },
   "source": [
    "Read the data"
   ]
  },
  {
   "cell_type": "code",
   "execution_count": 45,
   "metadata": {
    "executionInfo": {
     "elapsed": 398,
     "status": "ok",
     "timestamp": 1734229472601,
     "user": {
      "displayName": "Harsh Bhogal",
      "userId": "01847225361597675701"
     },
     "user_tz": -330
    },
    "id": "AGUolrvDvLI6"
   },
   "outputs": [],
   "source": [
    "def read_historical_data(filename):\n",
    "  df=pd.read_csv(filename)\n",
    "  df=df.dropna()\n",
    "  df=df.drop_duplicates()\n",
    "  return df"
   ]
  },
  {
   "cell_type": "markdown",
   "metadata": {
    "id": "YWbWj0O5wF9f"
   },
   "source": [
    "prepare the model for training"
   ]
  },
  {
   "cell_type": "code",
   "execution_count": 46,
   "metadata": {
    "executionInfo": {
     "elapsed": 367,
     "status": "ok",
     "timestamp": 1734229474660,
     "user": {
      "displayName": "Harsh Bhogal",
      "userId": "01847225361597675701"
     },
     "user_tz": -330
    },
    "id": "06wUYcEpwEIn"
   },
   "outputs": [],
   "source": [
    "def prepare_data(data):\n",
    "  le=LabelEncoder()\n",
    "  data['WindGustDir']=le.fit_transform(data['WindGustDir'])\n",
    "  data['RainTomorrow']=le.fit_transform(data['RainTomorrow'])\n",
    "\n",
    "  #Define the target and variable\n",
    "  x=data[['MinTemp','MaxTemp','WindGustDir','WindGustSpeed','Humidity','Pressure','Temp']]\n",
    "  y=data['RainTomorrow']\n",
    "\n",
    "  #return the feature variable ,target variable and the lable encoder\n",
    "  return x,y,le"
   ]
  },
  {
   "cell_type": "markdown",
   "metadata": {
    "id": "kNmr0M-A0MDp"
   },
   "source": [
    "train weather prediction model"
   ]
  },
  {
   "cell_type": "code",
   "execution_count": 47,
   "metadata": {
    "executionInfo": {
     "elapsed": 375,
     "status": "ok",
     "timestamp": 1734229477181,
     "user": {
      "displayName": "Harsh Bhogal",
      "userId": "01847225361597675701"
     },
     "user_tz": -330
    },
    "id": "PRLyPqg90VXa"
   },
   "outputs": [],
   "source": [
    "def train_model(x,y):\n",
    "  x_train,x_test,y_train,y_test=train_test_split(x,y,test_size=0.2,random_state=42)\n",
    "  model=RandomForestClassifier(n_estimators=100,random_state=42)\n",
    "  model.fit(x_train,y_train)\n",
    "  y_pred=model.predict(x_test)\n",
    "  print(\"Mean Squared Error For Rain Model\")\n",
    "  print(mean_squared_error(y_test,y_pred))\n",
    "  return model"
   ]
  },
  {
   "cell_type": "markdown",
   "metadata": {
    "id": "vExT27lJ0lvh"
   },
   "source": [
    "Prepare regression data"
   ]
  },
  {
   "cell_type": "code",
   "execution_count": 48,
   "metadata": {
    "executionInfo": {
     "elapsed": 372,
     "status": "ok",
     "timestamp": 1734229479059,
     "user": {
      "displayName": "Harsh Bhogal",
      "userId": "01847225361597675701"
     },
     "user_tz": -330
    },
    "id": "PAgqUzHwHIKF"
   },
   "outputs": [],
   "source": [
    "def prepare_regression_data(data,feature):\n",
    "  x,y=[],[]\n",
    "\n",
    "  for i in range(len(data)-1):\n",
    "    x.append(data[feature].iloc[i])\n",
    "    y.append(data[feature].iloc[i+1])\n",
    "\n",
    "  x=np.array(x).reshape(-1,1)\n",
    "  y=np.array(y)\n",
    "  return x,y"
   ]
  },
  {
   "cell_type": "code",
   "execution_count": 49,
   "metadata": {
    "executionInfo": {
     "elapsed": 355,
     "status": "ok",
     "timestamp": 1734229481581,
     "user": {
      "displayName": "Harsh Bhogal",
      "userId": "01847225361597675701"
     },
     "user_tz": -330
    },
    "id": "B9gS54ab0pCS"
   },
   "outputs": [],
   "source": [
    "def train_regression_model(x,y):\n",
    "  model = RandomForestRegressor(n_estimators=100, random_state=42)\n",
    "  model.fit(x, y)\n",
    "  return model"
   ]
  },
  {
   "cell_type": "markdown",
   "metadata": {
    "id": "gu9y5o6I09Q-"
   },
   "source": [
    "prediction"
   ]
  },
  {
   "cell_type": "code",
   "execution_count": 50,
   "metadata": {
    "executionInfo": {
     "elapsed": 369,
     "status": "ok",
     "timestamp": 1734229483861,
     "user": {
      "displayName": "Harsh Bhogal",
      "userId": "01847225361597675701"
     },
     "user_tz": -330
    },
    "id": "9TpU-N1G0_fq"
   },
   "outputs": [],
   "source": [
    "def predict_future(model, current_value):\n",
    "    predictions = [current_value]\n",
    "\n",
    "    for i in range(5):\n",
    "        next_value = model.predict(np.array([[predictions[-1]]]))\n",
    "        predictions.append(next_value[0])\n",
    "\n",
    "    return predictions[1:]"
   ]
  },
  {
   "cell_type": "code",
   "execution_count": 51,
   "metadata": {},
   "outputs": [],
   "source": [
    "# Function to save model\n",
    "def save_model(model, filename):\n",
    "    with open(filename, 'wb') as f:\n",
    "        pickle.dump(model, f)\n",
    "    print(f\"Model saved to {filename}\")\n",
    "\n",
    "# Function to load model\n",
    "def load_model(filename):\n",
    "    if os.path.exists(filename):\n",
    "        with open(filename, 'rb') as f:\n",
    "            model = pickle.load(f)\n",
    "        print(f\"Model loaded from {filename}\")\n",
    "        return model\n",
    "    else:\n",
    "        print(f\"{filename} not found!\")\n",
    "        return None"
   ]
  },
  {
   "cell_type": "markdown",
   "metadata": {
    "id": "9W0C2K1E1YcG"
   },
   "source": [
    "weather analysis function"
   ]
  },
  {
   "cell_type": "code",
   "execution_count": 53,
   "metadata": {
    "colab": {
     "base_uri": "https://localhost:8080/"
    },
    "executionInfo": {
     "elapsed": 826433,
     "status": "ok",
     "timestamp": 1734230311829,
     "user": {
      "displayName": "Harsh Bhogal",
      "userId": "01847225361597675701"
     },
     "user_tz": -330
    },
    "id": "QBepaeih1h0c",
    "outputId": "6a5fac58-81c5-4d59-dbb3-51a36c319937"
   },
   "outputs": [
    {
     "name": "stdin",
     "output_type": "stream",
     "text": [
      "Enter the city name:  Raipur\n"
     ]
    },
    {
     "name": "stdout",
     "output_type": "stream",
     "text": [
      "Mean Squared Error For Rain Model\n",
      "0.498725\n",
      "rain_model.pkl not found!\n",
      "Mean Squared Error For Rain Model\n",
      "0.498725\n",
      "Model saved to rain_model.pkl\n",
      "temp_model.pkl not found!\n",
      "hum_model.pkl not found!\n",
      "Model saved to temp_model.pkl\n",
      "Model saved to hum_model.pkl\n",
      "City: Raipur, IN\n",
      "Current Temperature: 21°C\n",
      "Feels Like: 20°C\n",
      "Minimum Temperature: 21°C\n",
      "Maximum Temperature: 21°C\n",
      "Humidity: 30%\n",
      "Weather Description: haze\n",
      "Rain Prediction: No\n",
      "\n",
      "Future Temperature Predictions:\n",
      "12:00: 25.0°C\n",
      "13:00: 25.1°C\n",
      "14:00: 25.1°C\n",
      "15:00: 25.1°C\n",
      "16:00: 25.1°C\n",
      "\n",
      "Future Humidity Predictions:\n",
      "12:00: 60.5%\n",
      "13:00: 60.7%\n",
      "14:00: 59.5%\n",
      "15:00: 59.0%\n",
      "16:00: 60.3%\n"
     ]
    }
   ],
   "source": [
    "def weather_view():\n",
    "  city = input(\"Enter the city name: \")\n",
    "  current_weather = get_current_weather(city)\n",
    "\n",
    "  # load historical data\n",
    "  historical_data = read_historical_data('indian_weather_prediction_dataset.csv')\n",
    "\n",
    "  # prepare and train the weather prediction model\n",
    "  x, y, le = prepare_data(historical_data)\n",
    "  rain_model = train_model(x, y)\n",
    "  # Check if model already exists\n",
    "  rain_model = load_model('rain_model.pkl')\n",
    "  if rain_model is None:\n",
    "        rain_model = train_model(x, y)\n",
    "        save_model(rain_model, 'rain_model.pkl')\n",
    "\n",
    "  # map wind direction to compass point\n",
    "  wind_deg = current_weather['wind_gust_dir'] % 360\n",
    "  compass_points = [\n",
    "      (\"N\", 0, 11.25), (\"NNE\", 11.25, 33.75), (\"NE\", 33.75, 56.25),\n",
    "      (\"ENE\", 56.25, 78.75), (\"E\", 78.75, 101.25), (\"ESE\", 101.25, 123.75),\n",
    "      (\"SE\", 123.75, 146.25), (\"SSE\", 146.25, 168.75), (\"S\", 168.75, 191.25),\n",
    "      (\"SSW\", 191.25, 213.75), (\"SW\", 213.75, 236.25), (\"WSW\", 236.25, 258.75),\n",
    "      (\"W\", 258.75, 281.25), (\"WNW\", 281.25, 303.75), (\"NW\", 303.75, 326.25),\n",
    "      (\"NNW\", 326.25, 348.75), (\"N\", 348.75, 360)\n",
    "  ]\n",
    "  compass_direction = next((point for point, start, end in compass_points if start <= wind_deg < end), \"Unknown\")\n",
    "  compass_direction_encoded = le.transform([compass_direction])[0] if compass_direction in le.classes_ else -1\n",
    "\n",
    "  current_data = {\n",
    "      'MinTemp': current_weather['temp_min'],\n",
    "      'MaxTemp': current_weather['temp_max'],\n",
    "      'WindGustDir': compass_direction_encoded,\n",
    "      'WindGustSpeed': current_weather.get('wind_speed', 0),\n",
    "      'Humidity': current_weather['humidity'],\n",
    "      'Pressure': current_weather['pressure'],\n",
    "      'Temp': current_weather['current_temp']\n",
    "  }\n",
    "\n",
    "  current_df = pd.DataFrame([current_data])\n",
    "\n",
    "  # weather prediction\n",
    "  rain_prediction = rain_model.predict(current_df)[0]\n",
    "\n",
    "  # prepare regression model for temperature and humidity\n",
    "  x_temp, y_temp = prepare_regression_data(historical_data, 'Temp')\n",
    "  x_hum, y_hum = prepare_regression_data(historical_data, 'Humidity')\n",
    "\n",
    "  # Check if temperature and humidity models already exist\n",
    "  temp_model = load_model('temp_model.pkl')\n",
    "  hum_model = load_model('hum_model.pkl')\n",
    "\n",
    "  if temp_model is None:\n",
    "        temp_model = train_regression_model(x_temp, y_temp)\n",
    "        save_model(temp_model, 'temp_model.pkl')\n",
    "  if hum_model is None:\n",
    "        hum_model = train_regression_model(x_hum, y_hum)\n",
    "        save_model(hum_model, 'hum_model.pkl')\n",
    "\n",
    "\n",
    "  # prediction future temperature and humidity\n",
    "  future_temp = predict_future(temp_model, current_weather['temp_min'])\n",
    "  future_humidity = predict_future(hum_model, current_weather['humidity'])\n",
    "\n",
    "  timezone = pytz.timezone('Asia/Kolkata')\n",
    "  now = datetime.now(timezone)\n",
    "  next_hour = now + timedelta(hours=1)\n",
    "  next_hour = next_hour.replace(minute=0, second=0, microsecond=0)\n",
    "  future_times = [(next_hour + timedelta(hours=i)).strftime(\"%H:00\") for i in range(5)]\n",
    "\n",
    "  # display result\n",
    "  print(f\"City: {city}, {current_weather['country']}\")\n",
    "  print(f\"Current Temperature: {current_weather['current_temp']}°C\")\n",
    "  print(f\"Feels Like: {current_weather['feels_like']}°C\")\n",
    "  print(f\"Minimum Temperature: {current_weather['temp_min']}°C\")\n",
    "  print(f\"Maximum Temperature: {current_weather['temp_max']}°C\")\n",
    "  print(f\"Humidity: {current_weather['humidity']}%\")\n",
    "  print(f\"Weather Description: {current_weather['description']}\")\n",
    "  print(f\"Rain Prediction: {'Yes' if rain_prediction else 'No'}\")\n",
    "\n",
    "  print(\"\\nFuture Temperature Predictions:\")\n",
    "\n",
    "  for time, temp in zip(future_times, future_temp):\n",
    "    print(f\"{time}: {round(temp, 1)}°C\")\n",
    "\n",
    "  print(\"\\nFuture Humidity Predictions:\")\n",
    "\n",
    "  for time, humidity in zip(future_times, future_humidity):\n",
    "    print(f\"{time}: {round(humidity, 1)}%\")\n",
    "\n",
    "weather_view()\n"
   ]
  },
  {
   "cell_type": "code",
   "execution_count": null,
   "metadata": {},
   "outputs": [],
   "source": []
  },
  {
   "cell_type": "code",
   "execution_count": null,
   "metadata": {},
   "outputs": [],
   "source": []
  },
  {
   "cell_type": "code",
   "execution_count": null,
   "metadata": {},
   "outputs": [],
   "source": []
  },
  {
   "cell_type": "code",
   "execution_count": null,
   "metadata": {},
   "outputs": [],
   "source": []
  },
  {
   "cell_type": "code",
   "execution_count": null,
   "metadata": {},
   "outputs": [],
   "source": []
  },
  {
   "cell_type": "code",
   "execution_count": null,
   "metadata": {},
   "outputs": [],
   "source": []
  },
  {
   "cell_type": "code",
   "execution_count": null,
   "metadata": {},
   "outputs": [],
   "source": []
  },
  {
   "cell_type": "code",
   "execution_count": null,
   "metadata": {},
   "outputs": [],
   "source": []
  },
  {
   "cell_type": "code",
   "execution_count": null,
   "metadata": {},
   "outputs": [],
   "source": []
  },
  {
   "cell_type": "code",
   "execution_count": null,
   "metadata": {},
   "outputs": [],
   "source": []
  },
  {
   "cell_type": "code",
   "execution_count": null,
   "metadata": {},
   "outputs": [],
   "source": []
  },
  {
   "cell_type": "code",
   "execution_count": null,
   "metadata": {},
   "outputs": [],
   "source": []
  }
 ],
 "metadata": {
  "accelerator": "TPU",
  "colab": {
   "authorship_tag": "ABX9TyNxlhXYCE96S5fidbMIBLpF",
   "gpuType": "V28",
   "provenance": []
  },
  "kernelspec": {
   "display_name": "Python 3 (ipykernel)",
   "language": "python",
   "name": "python3"
  },
  "language_info": {
   "codemirror_mode": {
    "name": "ipython",
    "version": 3
   },
   "file_extension": ".py",
   "mimetype": "text/x-python",
   "name": "python",
   "nbconvert_exporter": "python",
   "pygments_lexer": "ipython3",
   "version": "3.12.4"
  }
 },
 "nbformat": 4,
 "nbformat_minor": 4
}
